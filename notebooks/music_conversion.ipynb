{
 "cells": [
  {
   "cell_type": "code",
   "execution_count": 38,
   "metadata": {},
   "outputs": [],
   "source": [
    "import os\n",
    "import subprocess as sp"
   ]
  },
  {
   "cell_type": "code",
   "execution_count": 76,
   "metadata": {},
   "outputs": [
    {
     "name": "stdout",
     "output_type": "stream",
     "text": [
      "Of all 24 files, 24 are already converted. We will convert 0.\n",
      "Of all 40 files, 40 are already converted. We will convert 0.\n"
     ]
    }
   ],
   "source": [
    "# In each music directory, we convert all musics to .wav format\n",
    "# We only convert those that haven't been converted yet\n",
    "\n",
    "def toRaw():\n",
    "    # Get file names\n",
    "    files = sp.check_output([\"ls\"]).decode(\"utf8\").strip().split(\"\\n\")\n",
    "    \n",
    "    # Get files that are already in wav format\n",
    "    wav = []\n",
    "    for f in files:\n",
    "        parts = f.split(\".\")\n",
    "        if parts[-1] == \"wav\":\n",
    "            wav.append(''.join(parts[:-1]))\n",
    "    \n",
    "    # Get files that haven't been converted yet\n",
    "    toConvert = []\n",
    "    for f in files:\n",
    "        parts = f.split(\".\")\n",
    "        ext = parts[-1] # extension\n",
    "        stem = ''.join(parts[:-1]) # filename without extension\n",
    "        if ext != \"wav\" and stem not in wav:\n",
    "            toConvert.append(f)\n",
    "    \n",
    "    print(\"Of all {} files, {} are already converted. We will convert {}.\".format(\n",
    "        len(files), len(files) - len(toConvert), len(toConvert))\n",
    "        )\n",
    "    \n",
    "    # Convert files to wav\n",
    "    for file in toConvert:\n",
    "        stem = ''.join(file.split(\".\")[:-1])\n",
    "        retval = sp.run(\n",
    "            [\"ffmpeg\", \"-i\", file, \"-ab\", \"160k\",\n",
    "             \"-ac\", \"2\", \"-ar\", \"44100\", \"-vn\", stem + \".wav\"]\n",
    "            ).returncode\n",
    "        if(retval != 0):\n",
    "            print(\"Sorry, could not convert file '{}', so we will ignore it for now.\".format(file))\n",
    "\n",
    "try:\n",
    "    os.chdir(\"./music_negative/\")\n",
    "except:\n",
    "    print(\"Couldn't chdir. We are on dir: \" + os.getcwd())\n",
    "    \n",
    "toRaw()\n",
    "\n",
    "os.chdir(\"..\")\n",
    "try:\n",
    "    os.chdir(\"./music_positive/\")\n",
    "except:\n",
    "    print(\"Couldn't chdir. We are on dir: \" + os.getcwd())\n",
    "\n",
    "toRaw()\n",
    "\n",
    "os.chdir(\"..\")"
   ]
  },
  {
   "cell_type": "code",
   "execution_count": null,
   "metadata": {},
   "outputs": [],
   "source": []
  }
 ],
 "metadata": {
  "kernelspec": {
   "display_name": "Python 3",
   "language": "python",
   "name": "python3"
  },
  "language_info": {
   "codemirror_mode": {
    "name": "ipython",
    "version": 3
   },
   "file_extension": ".py",
   "mimetype": "text/x-python",
   "name": "python",
   "nbconvert_exporter": "python",
   "pygments_lexer": "ipython3",
   "version": "3.6.5"
  }
 },
 "nbformat": 4,
 "nbformat_minor": 2
}

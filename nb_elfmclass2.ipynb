{
 "cells": [
  {
   "cell_type": "code",
   "execution_count": 16,
   "metadata": {},
   "outputs": [
    {
     "name": "stdout",
     "output_type": "stream",
     "text": [
      "acc\ttrain\ttest\n",
      "0.9703001088477686\t3.929287385940552\t0.0664531946182251\t{'Folk': [359, 41], 'Hip-Hop': [397, 3], 'Instrumental': [362, 38], 'Experimental': [375, 25], 'Rock': [392, 8], 'International': [376, 24], 'Electronic': [387, 13], 'Pop': [375, 25], 'Classical': [3217, 14]}\n",
      "0.9693671279738766\t6.551239037513733\t0.13079073429107665\t{'Folk': [721, 79], 'Hip-Hop': [796, 4], 'Instrumental': [713, 87], 'Experimental': [752, 48], 'Rock': [788, 12], 'International': [759, 41], 'Electronic': [774, 26], 'Pop': [753, 47], 'Classical': [6412, 50]}\n",
      "0.9701446120354533\t9.461775207519532\t0.1918696403503418\t{'Folk': [1089, 111], 'Hip-Hop': [1193, 7], 'Instrumental': [1067, 133], 'Experimental': [1129, 71], 'Rock': [1184, 16], 'International': [1133, 67], 'Electronic': [1162, 38], 'Pop': [1133, 67], 'Classical': [9627, 66]}\n",
      "0.9708443476908724\t12.290276694297791\t0.25242974758148196\t{'Folk': [1457, 143], 'Hip-Hop': [1590, 10], 'Instrumental': [1427, 173], 'Experimental': [1507, 93], 'Rock': [1579, 21], 'International': [1513, 87], 'Electronic': [1551, 49], 'Pop': [1518, 82], 'Classical': [12832, 92]}\n",
      "0.9701135126729902\t16.319531059265138\t0.3154123544692993\t{'Folk': [1820, 180], 'Hip-Hop': [1988, 12], 'Instrumental': [1766, 234], 'Experimental': [1882, 118], 'Rock': [1973, 27], 'International': [1884, 116], 'Electronic': [1936, 64], 'Pop': [1890, 110], 'Classical': [16055, 100]}\n",
      "0.9710516767739594\t19.917604279518127\t0.3859041452407837\t{'Folk': [2191, 209], 'Hip-Hop': [2387, 13], 'Instrumental': [2124, 276], 'Experimental': [2257, 143], 'Rock': [2369, 31], 'International': [2268, 132], 'Electronic': [2331, 69], 'Pop': [2272, 128], 'Classical': [19270, 116]}\n",
      "0.9711886620609992\t23.004466152191164\t0.4478491544723511\t{'Folk': [2568, 232], 'Hip-Hop': [2785, 15], 'Instrumental': [2481, 319], 'Experimental': [2630, 170], 'Rock': [2763, 37], 'International': [2648, 152], 'Electronic': [2716, 84], 'Pop': [2653, 147], 'Classical': [22476, 141]}\n",
      "0.9710775929093454\t25.76732995510101\t0.5103037118911743\t{'Folk': [2924, 276], 'Hip-Hop': [3184, 16], 'Instrumental': [2830, 370], 'Experimental': [3010, 190], 'Rock': [3155, 45], 'International': [3025, 175], 'Electronic': [3103, 97], 'Pop': [3029, 171], 'Classical': [25700, 148]}\n",
      "0.9715268059227008\t29.32296884059906\t0.5706571102142334\t{'Folk': [3294, 306], 'Hip-Hop': [3582, 18], 'Instrumental': [3203, 397], 'Experimental': [3388, 212], 'Rock': [3550, 50], 'International': [3407, 193], 'Electronic': [3496, 104], 'Pop': [3410, 190], 'Classical': [28901, 178]}\n",
      "0.9711864406779661\t32.38217451572418\t0.6337203502655029\t{'Folk': [3656, 344], 'Hip-Hop': [3982, 18], 'Instrumental': [3551, 449], 'Experimental': [3758, 242], 'Rock': [3946, 54], 'International': [3781, 219], 'Electronic': [3883, 117], 'Pop': [3786, 214], 'Classical': [32114, 196]}\n"
     ]
    }
   ],
   "source": [
    "#!/usr/bin/python3\n",
    "\n",
    "from pyAudioAnalysis import audioBasicIO\n",
    "from pyAudioAnalysis import audioFeatureExtraction\n",
    "import matplotlib.pyplot as plt\n",
    "import subprocess as subp\n",
    "import os, time, sys\n",
    "import numpy as np\n",
    "from sklearn.neural_network import MLPClassifier\n",
    "from sklearn.externals import joblib\n",
    "\n",
    "# Returns the .wav files in current directory.\n",
    "# Return value is a list of filenames.\n",
    "def getWavFiles():\n",
    "    files = subp.check_output([\"ls\"]).decode(\"utf8\").split(\"\\n\")\n",
    "    files = [f for f in files if f.split(\".\")[-1] == \"wav\"]\n",
    "    return files\n",
    "\n",
    "# Gets feature vector for a wav song\n",
    "def getFeatureVector(file):\n",
    "    try:\n",
    "        [Fs, x] = audioBasicIO.readAudioFile(file);\n",
    "        x = audioBasicIO.stereo2mono(x)\n",
    "    except:\n",
    "        print(\"Error on file: \", file)\n",
    "        return None\n",
    "\n",
    "    # We cut the audio to a 30 second window in the middle of the song\n",
    "    # If the audio is shorter than 30 second, we discard it\n",
    "    nSamples = int(Fs * 29.9)\n",
    "    if isinstance(x, int):\n",
    "        return None\n",
    "    elif len(x) < nSamples:\n",
    "        return None\n",
    "    offset   = (len(x) - nSamples) // 2\n",
    "    x = x[offset:offset+nSamples]\n",
    "\n",
    "    mterm, sterm, f_names = audioFeatureExtraction.mtFeatureExtraction(x, Fs, 1*Fs, 1*Fs, 0.050*Fs, 0.025*Fs);\n",
    "\n",
    "    # Should return 68 mid-term features per mid-term window (30 windows)\n",
    "    return mterm.ravel()\n",
    "\n",
    "# Returns the genres for each negative example.\n",
    "# Return value is a dictionary of music_id -> genre\n",
    "def getGenres():\n",
    "    with open(\"genres.csv\") as fp:\n",
    "        genres = fp.read()\n",
    "\n",
    "    gdict = {}\n",
    "    genres = [ g.split(\",\") for g in genres.strip().split(\"\\n\") ]\n",
    "    for row in genres:\n",
    "        gdict[int(row[0])] = row[1]\n",
    "\n",
    "    return gdict\n",
    "\n",
    "# Returns the dataset composed of feature vectors and the class of each music\n",
    "# Return value is a list containing:\n",
    "#     1) a matrix where each row is [feature vector, class, music id, genre]\n",
    "#     2) dictionary with counters of how many items per genre\n",
    "def getDataset():\n",
    "    dataset = []\n",
    "    progress = 0\n",
    "    genreCounter = {}\n",
    "\n",
    "    # Get genre dictionary and initialize genre counters\n",
    "    genres = getGenres()\n",
    "    for g in set(genres.values()):\n",
    "        genreCounter[g] = 0\n",
    "    genreCounter[\"Classical\"] = 0\n",
    "\n",
    "    os.chdir(\"music_negative/\")\n",
    "    files = getWavFiles()\n",
    "    for f in files:\n",
    "        idd = int(f.rstrip(\".wav\"))   # Get music id from filename\n",
    "        genre = genres[idd]           # Get music genre from dictionary\n",
    "        if genreCounter[genre] > 400: # Don't get features for more than 400 songs per genre\n",
    "            continue\n",
    "\n",
    "        if progress % 10 == 0:\n",
    "            print(\"Processing: {}\".format(progress))\n",
    "\n",
    "        features = getFeatureVector(f)\n",
    "        if features is not None:\n",
    "            dataset.append([features, 0, idd, genre])\n",
    "            genreCounter[genre] += 1    # Increment genrecounter\n",
    "\n",
    "        progress += 1\n",
    "\n",
    "    os.chdir(\"..\")\n",
    "\n",
    "    os.chdir(\"music_positive/\")\n",
    "    files = getWavFiles()\n",
    "    for f in files:\n",
    "        if progress % 10 == 0:\n",
    "            print(\"Processing: {}\".format(progress))\n",
    "\n",
    "        features = getFeatureVector(f)\n",
    "        if features is not None:\n",
    "            dataset.append([features, 1, -1, \"Classical\"])\n",
    "            genreCounter[\"Classical\"] += 1\n",
    "\n",
    "        progress += 1\n",
    "\n",
    "    os.chdir(\"..\")\n",
    "\n",
    "    return [np.array(dataset), genreCounter]\n",
    "\n",
    "# Trains an MLP using the given dataset.\n",
    "def trainModel(trainData, solve=\"lbfgs\", hidden=(4)):\n",
    "    clf = MLPClassifier(solver=solve, alpha=1e-4, hidden_layer_sizes=hidden, max_iter=1000, activation=\"logistic\")\n",
    "\n",
    "    X = [ i[0] for i in trainData ]\n",
    "    Y = [ i[1] for i in trainData ]\n",
    "    clf.fit(X, Y)\n",
    "\n",
    "    return clf\n",
    "\n",
    "def experimentMany(dataset):\n",
    "    # Create a randomized copy of the dataset\n",
    "    rDataset = dataset.copy()\n",
    "    np.random.shuffle(rDataset)\n",
    "\n",
    "    # Create statistics\n",
    "    genres = set([ row[3] for row in dataset ])\n",
    "\n",
    "    # k-fold cross-validation\n",
    "    nFolds = 5\n",
    "    foldSize = len(rDataset)//nFolds\n",
    "\n",
    "    for solver in [\"lbfgs\", \"adam\", \"sgd\"]:\n",
    "        print(\"{}\\t{}\\t{}\\t{}\\t{}\".format(\"solver\", \"layrs\", \"acc\", \"train\", \"test\"))\n",
    "\n",
    "        for layers in [(1), (2), (3), (4), (5), (6), (7), (8)]:\n",
    "            success = 0\n",
    "            attempts = 0\n",
    "\n",
    "            execTries = 10\n",
    "            testTime  = 0\n",
    "            trainTime = 0\n",
    "\n",
    "            # Create statistics\n",
    "            stats  = {}\n",
    "            for g in genres:\n",
    "                stats[g] = [0,0] # 0 Successes, 0 Failures\n",
    "\n",
    "            for execId in range(execTries):\n",
    "                for i in range(nFolds):\n",
    "                    train_idx = np.array([ True for i in range(len(rDataset)) ])\n",
    "                    train_idx[i*foldSize:(i+1)*foldSize] = False\n",
    "\n",
    "                    if i == nFolds-1:\n",
    "                        train_idx[-1] = False\n",
    "\n",
    "                    test_idx = train_idx == False\n",
    "\n",
    "                    train = rDataset[train_idx]\n",
    "                    test  = rDataset[test_idx]\n",
    "\n",
    "                    # train model\n",
    "                    beg = time.time()\n",
    "                    clf = trainModel(train, solver, layers)\n",
    "                    trainTime += time.time() - beg\n",
    "\n",
    "                    beg = time.time()\n",
    "\n",
    "                    # Calculate accuracy\n",
    "                    for [x,y,idd,genre] in test:\n",
    "                        y_star = clf.predict([x])\n",
    "                        # print(\"[{},{}]\".format(y,y_star))\n",
    "                        if y_star == y:\n",
    "                            success += 1\n",
    "                            stats[genre][0] += 1\n",
    "                        else:\n",
    "                            stats[genre][1] += 1\n",
    "                        attempts += 1\n",
    "\n",
    "                    testTime += time.time() - beg\n",
    "\n",
    "            print(\"{}\\t{}\\t{}\\t{}\\t{}\\t{}\".format(solver, layers, success / attempts, trainTime / execTries, testTime / execTries, stats))\n",
    "\n",
    "def experimentOne(dataset):\n",
    "    # Create a randomized copy of the dataset\n",
    "    rDataset = dataset.copy()\n",
    "    np.random.shuffle(rDataset)\n",
    "\n",
    "    # Create statistics\n",
    "    genres = set([ row[3] for row in dataset ])\n",
    "\n",
    "    # k-fold cross-validation\n",
    "    nFolds = 5\n",
    "    foldSize = len(rDataset)//nFolds\n",
    "\n",
    "    print(\"{}\\t{}\\t{}\".format(\"acc\", \"train\", \"test\"))\n",
    "\n",
    "    success = 0\n",
    "    attempts = 0\n",
    "\n",
    "    execTries = 10\n",
    "    testTime  = 0\n",
    "    trainTime = 0\n",
    "\n",
    "    # Create statistics\n",
    "    stats  = {}\n",
    "    for g in genres:\n",
    "        stats[g] = [0,0] # 0 Successes, 0 Failures\n",
    "\n",
    "    for execId in range(execTries):\n",
    "        for i in range(nFolds):\n",
    "            train_idx = np.array([ True for i in range(len(rDataset)) ])\n",
    "            train_idx[i*foldSize:(i+1)*foldSize] = False\n",
    "\n",
    "            if i == nFolds-1:\n",
    "                train_idx[-1] = False\n",
    "\n",
    "            test_idx = train_idx == False\n",
    "\n",
    "            train = rDataset[train_idx]\n",
    "            test  = rDataset[test_idx]\n",
    "\n",
    "            # train model\n",
    "            beg = time.time()\n",
    "            clf = trainModel(train, \"lbfgs\", (4))\n",
    "            trainTime += time.time() - beg\n",
    "\n",
    "            beg = time.time()\n",
    "\n",
    "            # Calculate accuracy\n",
    "            for [x,y,idd,genre] in test:\n",
    "                y_star = clf.predict([x])\n",
    "                # print(\"[{},{}]\".format(y,y_star))\n",
    "                if y_star == y:\n",
    "                    success += 1\n",
    "                    stats[genre][0] += 1\n",
    "                else:\n",
    "                    stats[genre][1] += 1\n",
    "                attempts += 1\n",
    "\n",
    "            testTime += time.time() - beg\n",
    "\n",
    "        print(\"{}\\t{}\\t{}\\t{}\".format(success / attempts, trainTime / execTries, testTime / execTries, stats))\n",
    "\n",
    "\n",
    "# Normalizes the dataset so that each feature has mean 0 and deviation 1\n",
    "def zNormalize(dataset):\n",
    "    # Each row in the dataset has the feature vector, then its class\n",
    "    feats = dataset[:,0]\n",
    "\n",
    "    # Transform to matrix\n",
    "    matrix = np.matrix([[col for col in row] for row in feats])\n",
    "\n",
    "    # For each feature (column), we z-normalize it\n",
    "    for col in range(matrix.shape[1]):\n",
    "        mean = np.mean(matrix[:,col])\n",
    "        std  = np.std(matrix[:,col])\n",
    "        matrix[:,col] = (matrix[:,col] - mean) / std\n",
    "\n",
    "    # Replace features in the dataset\n",
    "    for row in range(matrix.shape[0]):\n",
    "        dataset[row,0] = np.array(matrix[row,:]).flatten()\n",
    "\n",
    "# Balances the dataset by replicating classical songs\n",
    "def fillDataset(dataset):\n",
    "    nOther = len(dataset[dataset[:,3] != \"Classical\"])\n",
    "    nClass = len(dataset[dataset[:,3] == \"Classical\"])\n",
    "    remaining = nOther - nClass\n",
    "    \n",
    "    if remaining < 0:\n",
    "        return dataset\n",
    "\n",
    "    nCopies = (remaining + nClass - 1) // nClass\n",
    "    classical = dataset[dataset[:,3] == \"Classical\"]\n",
    "    classical = np.concatenate([classical for i in range(nCopies)])\n",
    "    \n",
    "    return np.concatenate([dataset, classical])\n",
    "\n",
    "dataset = np.load(\"features.npy\")\n",
    "dataset = fillDataset(dataset)\n",
    "experimentOne(dataset)"
   ]
  },
  {
   "cell_type": "code",
   "execution_count": 30,
   "metadata": {},
   "outputs": [],
   "source": [
    "data = {'Folk': [3656, 344], 'Hip-Hop': [3982, 18], 'Instrumental': [3551, 449], 'Experimental': [3758, 242], 'Rock': [3946, 54], 'International': [3781, 219], 'Electronic': [3883, 117], 'Pop': [3786, 214], 'Classical': [32114, 196]}"
   ]
  },
  {
   "cell_type": "code",
   "execution_count": 31,
   "metadata": {},
   "outputs": [
    {
     "name": "stdout",
     "output_type": "stream",
     "text": [
      "Classical\t0.6\t99.39\n",
      "Electronic\t2.92\t97.07\n",
      "Experimental\t6.05\t93.95\n",
      "Folk\t8.59\t91.4\n",
      "Hip-Hop\t0.45\t99.55\n",
      "Instrumental\t11.22\t88.77\n",
      "International\t5.47\t94.52\n",
      "Pop\t5.35\t94.65\n",
      "Rock\t1.35\t98.65\n"
     ]
    }
   ],
   "source": [
    "for k in sorted(data.keys()):\n",
    "    g = data[k]\n",
    "    total = sum(g)\n",
    "    fail = g[1]\n",
    "    succ = g[0]\n",
    "    print(k, fail/total * 10000 // 1 / 100, succ/total * 10000 // 1 / 100, sep=\"\\t\")"
   ]
  },
  {
   "cell_type": "code",
   "execution_count": 32,
   "metadata": {},
   "outputs": [],
   "source": [
    "classical = data[\"Classical\"]\n",
    "del data[\"Classical\"]\n",
    "other = data"
   ]
  },
  {
   "cell_type": "code",
   "execution_count": 38,
   "metadata": {},
   "outputs": [
    {
     "data": {
      "text/plain": [
       "(30343, 1657)"
      ]
     },
     "execution_count": 38,
     "metadata": {},
     "output_type": "execute_result"
    }
   ],
   "source": [
    "sum([ i[0] for i in other.values() ]), sum([ i[1] for i in other.values() ])"
   ]
  },
  {
   "cell_type": "code",
   "execution_count": 42,
   "metadata": {},
   "outputs": [
    {
     "data": {
      "text/plain": [
       "(32114, 196)"
      ]
     },
     "execution_count": 42,
     "metadata": {},
     "output_type": "execute_result"
    }
   ],
   "source": [
    "classical[0], classical[1]"
   ]
  },
  {
   "cell_type": "code",
   "execution_count": 43,
   "metadata": {},
   "outputs": [
    {
     "data": {
      "text/plain": [
       "(0.94821875, 0.05178125)"
      ]
     },
     "execution_count": 43,
     "metadata": {},
     "output_type": "execute_result"
    }
   ],
   "source": [
    "30343 / (30343 + 1657), 1657 / (30343 + 1657)"
   ]
  },
  {
   "cell_type": "code",
   "execution_count": 44,
   "metadata": {},
   "outputs": [
    {
     "data": {
      "text/plain": [
       "(0.9939337666357165, 0.006066233364283503)"
      ]
     },
     "execution_count": 44,
     "metadata": {},
     "output_type": "execute_result"
    }
   ],
   "source": [
    "c = classical\n",
    "c[0] / sum(c), c[1] / sum(c)"
   ]
  },
  {
   "cell_type": "code",
   "execution_count": null,
   "metadata": {},
   "outputs": [],
   "source": []
  },
  {
   "cell_type": "code",
   "execution_count": null,
   "metadata": {},
   "outputs": [],
   "source": []
  },
  {
   "cell_type": "code",
   "execution_count": null,
   "metadata": {},
   "outputs": [],
   "source": []
  },
  {
   "cell_type": "code",
   "execution_count": null,
   "metadata": {},
   "outputs": [],
   "source": []
  },
  {
   "cell_type": "code",
   "execution_count": null,
   "metadata": {},
   "outputs": [],
   "source": []
  },
  {
   "cell_type": "code",
   "execution_count": null,
   "metadata": {},
   "outputs": [],
   "source": []
  },
  {
   "cell_type": "code",
   "execution_count": null,
   "metadata": {},
   "outputs": [],
   "source": []
  },
  {
   "cell_type": "code",
   "execution_count": null,
   "metadata": {},
   "outputs": [],
   "source": []
  }
 ],
 "metadata": {
  "kernelspec": {
   "display_name": "Python 3",
   "language": "python",
   "name": "python3"
  },
  "language_info": {
   "codemirror_mode": {
    "name": "ipython",
    "version": 3
   },
   "file_extension": ".py",
   "mimetype": "text/x-python",
   "name": "python",
   "nbconvert_exporter": "python",
   "pygments_lexer": "ipython3",
   "version": "3.6.6"
  }
 },
 "nbformat": 4,
 "nbformat_minor": 2
}

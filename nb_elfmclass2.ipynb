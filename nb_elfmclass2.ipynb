{
 "cells": [
  {
   "cell_type": "code",
   "execution_count": 62,
   "metadata": {},
   "outputs": [],
   "source": [
    "#!/usr/bin/python3\n",
    "\n",
    "from pyAudioAnalysis import audioBasicIO\n",
    "from pyAudioAnalysis import audioFeatureExtraction\n",
    "import matplotlib.pyplot as plt\n",
    "import subprocess as subp\n",
    "import os\n",
    "import numpy as np\n",
    "from sklearn.neural_network import MLPClassifier\n",
    "from sklearn.externals import joblib\n",
    "\n",
    "def getWavFiles():\n",
    "    files = subp.check_output([\"ls\"]).decode(\"utf8\").split(\"\\n\")\n",
    "    files = [f for f in files if f.split(\".\")[-1] == \"wav\"]\n",
    "    return files\n",
    "\n",
    "# Gets feature vector for a wav song\n",
    "def getFeatureVector(file):\n",
    "    [Fs, x] = audioBasicIO.readAudioFile(file);\n",
    "    x = audioBasicIO.stereo2mono(x)\n",
    "\n",
    "    # We cut the audio to a 30 second window in the middle of the song\n",
    "    # If the audio is shorter than 30 second, we discard it\n",
    "    nSamples = Fs * 30\n",
    "    if len(x) < nSamples:\n",
    "        return None\n",
    "    offset   = (len(x) - nSamples) // 2\n",
    "    x = x[offset:offset+nSamples]\n",
    "\n",
    "    print(\"Sampling rate, number of samples: \", Fs, len(x))\n",
    "\n",
    "    mterm, sterm, f_names = audioFeatureExtraction.mtFeatureExtraction(x, Fs, 2*Fs, 2*Fs, 0.050*Fs, 0.025*Fs);\n",
    "\n",
    "    # Should return 68 mid-term features per mid-term window (30 windows)\n",
    "    return mterm.ravel()\n",
    "\n",
    "def getDataset():\n",
    "    dataset = []\n",
    "\n",
    "    os.chdir(\"music_negative/\")\n",
    "    files = getWavFiles()\n",
    "    for f in files:\n",
    "        features = getFeatureVector(f)\n",
    "        if features is not None:\n",
    "            dataset.append([features, 0])\n",
    "    os.chdir(\"..\")\n",
    "\n",
    "    os.chdir(\"music_positive/\")\n",
    "    files = getWavFiles()\n",
    "    for f in files:\n",
    "        features = getFeatureVector(f)\n",
    "        if features is not None:\n",
    "            dataset.append([features, 1])\n",
    "    os.chdir(\"..\")\n",
    "\n",
    "    return np.array(dataset)\n",
    "\n",
    "def trainModel(trainData, hidden=(10)):\n",
    "    clf = MLPClassifier(solver=\"sgd\", alpha=1e-4, hidden_layer_sizes=hidden, random_state=1, max_iter=10000)\n",
    "\n",
    "    X = [ i[0] for i in trainData ]\n",
    "    Y = [ i[1] for i in trainData ]\n",
    "    clf.fit(X, Y)\n",
    "\n",
    "    return clf"
   ]
  },
  {
   "cell_type": "code",
   "execution_count": 4,
   "metadata": {},
   "outputs": [
    {
     "name": "stdout",
     "output_type": "stream",
     "text": [
      "Sampling rate, number of samples:  44100 1323000\n",
      "Sampling rate, number of samples:  44100 1323000\n",
      "Sampling rate, number of samples:  44100 1323000\n",
      "Sampling rate, number of samples:  44100 1323000\n",
      "Sampling rate, number of samples:  44100 1323000\n",
      "Sampling rate, number of samples:  44100 1323000\n",
      "Sampling rate, number of samples:  44100 1323000\n",
      "Sampling rate, number of samples:  44100 1323000\n",
      "Sampling rate, number of samples:  44100 1323000\n",
      "Sampling rate, number of samples:  44100 1323000\n",
      "Sampling rate, number of samples:  44100 1323000\n",
      "Sampling rate, number of samples:  44100 1323000\n",
      "Sampling rate, number of samples:  44100 1323000\n",
      "Sampling rate, number of samples:  44100 1323000\n",
      "Sampling rate, number of samples:  44100 1323000\n",
      "Sampling rate, number of samples:  44100 1323000\n",
      "Sampling rate, number of samples:  44100 1323000\n",
      "Sampling rate, number of samples:  44100 1323000\n",
      "Sampling rate, number of samples:  44100 1323000\n",
      "Sampling rate, number of samples:  44100 1323000\n",
      "Sampling rate, number of samples:  44100 1323000\n",
      "Sampling rate, number of samples:  44100 1323000\n",
      "Sampling rate, number of samples:  44100 1323000\n",
      "Sampling rate, number of samples:  44100 1323000\n",
      "Sampling rate, number of samples:  44100 1323000\n",
      "Sampling rate, number of samples:  44100 1323000\n",
      "Sampling rate, number of samples:  44100 1323000\n",
      "Sampling rate, number of samples:  44100 1323000\n",
      "Sampling rate, number of samples:  44100 1323000\n",
      "Sampling rate, number of samples:  44100 1323000\n",
      "Sampling rate, number of samples:  44100 1323000\n"
     ]
    }
   ],
   "source": [
    "dataset = getDataset()\n",
    "\n",
    "# Shuffle dataset\n",
    "np.random.shuffle(dataset)"
   ]
  },
  {
   "cell_type": "code",
   "execution_count": 66,
   "metadata": {},
   "outputs": [
    {
     "name": "stdout",
     "output_type": "stream",
     "text": [
      "1\t0.6774193548387096\n",
      "2\t0.8709677419354839\n",
      "3\t0.5161290322580645\n",
      "4\t0.5161290322580645\n",
      "5\t0.8709677419354839\n",
      "10\t0.8709677419354839\n",
      "20\t0.8387096774193549\n",
      "30\t0.8387096774193549\n",
      "40\t0.8709677419354839\n",
      "50\t0.7741935483870968\n",
      "60\t0.7741935483870968\n",
      "70\t0.8709677419354839\n",
      "80\t0.7096774193548387\n",
      "90\t0.7096774193548387\n",
      "100\t0.5483870967741935\n",
      "(5, 2)\t0.7741935483870968\n",
      "(5, 4)\t0.6129032258064516\n",
      "(10, 4)\t0.8064516129032258\n",
      "(20, 4)\t0.41935483870967744\n"
     ]
    }
   ],
   "source": [
    "# Separate in train/test, 70% train\n",
    "# partition = int(0.7*len(dataset))\n",
    "# train = dataset[:partition]\n",
    "# test  = dataset[partition:]\n",
    "\n",
    "nFolds = 5\n",
    "foldSize = len(dataset)//nFolds\n",
    "\n",
    "for layers in [(1), (2), (3), (4), (5), (10), (20), (30), (40), (50), (60), (70), (80), (90), (100), (5,2), (5,4), (10,4), (20,4)]:\n",
    "    success = 0\n",
    "    attempts = 0\n",
    "    for i in range(nFolds):\n",
    "        train_idx = np.array([ True for i in range(len(dataset)) ])\n",
    "        train_idx[i*foldSize:(i+1)*foldSize] = False\n",
    "\n",
    "        if i == nFolds-1:\n",
    "            train_idx[-1] = False\n",
    "\n",
    "        test_idx = train_idx == False\n",
    "\n",
    "        train = dataset[train_idx]\n",
    "        test  = dataset[test_idx]\n",
    "\n",
    "        # train model\n",
    "        clf = trainModel(train, layers)\n",
    "\n",
    "        # Calculate accuracy\n",
    "        for [x,y] in test:\n",
    "            y_star = clf.predict([x])\n",
    "            # print(\"[{},{}]\".format(y,y_star))\n",
    "            if y_star == y:\n",
    "                success += 1\n",
    "            attempts += 1\n",
    "\n",
    "    print(\"{}\\t{}\".format(layers, success / attempts))"
   ]
  },
  {
   "cell_type": "code",
   "execution_count": 17,
   "metadata": {},
   "outputs": [
    {
     "data": {
      "text/plain": [
       "array([], dtype=float64)"
      ]
     },
     "execution_count": 17,
     "metadata": {},
     "output_type": "execute_result"
    }
   ],
   "source": []
  },
  {
   "cell_type": "code",
   "execution_count": null,
   "metadata": {},
   "outputs": [],
   "source": []
  }
 ],
 "metadata": {
  "kernelspec": {
   "display_name": "Python 3",
   "language": "python",
   "name": "python3"
  },
  "language_info": {
   "codemirror_mode": {
    "name": "ipython",
    "version": 3
   },
   "file_extension": ".py",
   "mimetype": "text/x-python",
   "name": "python",
   "nbconvert_exporter": "python",
   "pygments_lexer": "ipython3",
   "version": "3.6.6"
  }
 },
 "nbformat": 4,
 "nbformat_minor": 2
}

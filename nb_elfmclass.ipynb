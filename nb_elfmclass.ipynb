{
 "cells": [
  {
   "cell_type": "code",
   "execution_count": 1,
   "metadata": {},
   "outputs": [],
   "source": [
    "from pyAudioAnalysis import audioBasicIO\n",
    "from pyAudioAnalysis import audioFeatureExtraction\n",
    "import matplotlib.pyplot as plt\n",
    "import subprocess as subp\n",
    "import os"
   ]
  },
  {
   "cell_type": "code",
   "execution_count": 81,
   "metadata": {},
   "outputs": [
    {
     "name": "stdout",
     "output_type": "stream",
     "text": [
      "Sampling rate, number of samples:  44100 1323000\n",
      "Sampling rate, number of samples:  44100 1323000\n",
      "Sampling rate, number of samples:  44100 1323000\n",
      "Sampling rate, number of samples:  44100 1323000\n",
      "Sampling rate, number of samples:  44100 1323000\n",
      "Sampling rate, number of samples:  44100 1323000\n",
      "Sampling rate, number of samples:  44100 1323000\n",
      "Sampling rate, number of samples:  44100 1323000\n",
      "Sampling rate, number of samples:  44100 1323000\n",
      "Sampling rate, number of samples:  44100 1323000\n",
      "Sampling rate, number of samples:  44100 1323000\n",
      "Sampling rate, number of samples:  44100 1323000\n",
      "Sampling rate, number of samples:  44100 1323000\n",
      "Sampling rate, number of samples:  44100 1323000\n",
      "Sampling rate, number of samples:  44100 1323000\n",
      "Sampling rate, number of samples:  44100 1323000\n",
      "Sampling rate, number of samples:  44100 1323000\n",
      "Sampling rate, number of samples:  44100 1323000\n",
      "Sampling rate, number of samples:  44100 1323000\n",
      "Sampling rate, number of samples:  44100 1323000\n",
      "Sampling rate, number of samples:  44100 1323000\n",
      "Sampling rate, number of samples:  44100 1323000\n",
      "Sampling rate, number of samples:  44100 1323000\n",
      "Sampling rate, number of samples:  44100 1323000\n",
      "Sampling rate, number of samples:  44100 1323000\n",
      "Sampling rate, number of samples:  44100 1323000\n",
      "Sampling rate, number of samples:  44100 1323000\n",
      "Sampling rate, number of samples:  44100 1323000\n",
      "Sampling rate, number of samples:  44100 1323000\n",
      "Sampling rate, number of samples:  44100 1323000\n",
      "Sampling rate, number of samples:  44100 1323000\n"
     ]
    },
    {
     "data": {
      "text/plain": [
       "[[array([0.06389519, 0.0607475 , 0.06171166, ..., 0.00577995, 0.01059661,\n",
       "         0.00715891]), 0],\n",
       " [array([0.06880104, 0.05780399, 0.06014632, ..., 0.00850338, 0.00919012,\n",
       "         0.00869681]), 0],\n",
       " [array([0.09451565, 0.0999206 , 0.10162772, ..., 0.01221416, 0.01193331,\n",
       "         0.01224679]), 0],\n",
       " [array([0.05362409, 0.07862409, 0.06920372, ..., 0.00931003, 0.01131456,\n",
       "         0.00801118]), 0],\n",
       " [array([0.06791629, 0.05756012, 0.04602427, ..., 0.00993236, 0.00691155,\n",
       "         0.00758121]), 0],\n",
       " [array([0.08203267, 0.09156647, 0.0623412 , ..., 0.01430264, 0.01131676,\n",
       "         0.02015864]), 0],\n",
       " [array([0.0965177 , 0.08666062, 0.0799569 , ..., 0.01112409, 0.01063557,\n",
       "         0.00715959]), 0],\n",
       " [array([0.05188294, 0.03346756, 0.02599819, ..., 0.01063129, 0.00771326,\n",
       "         0.01609343]), 0],\n",
       " [array([0.0489451 , 0.05418557, 0.07911751, ..., 0.01003528, 0.01710502,\n",
       "         0.01185217]), 0],\n",
       " [array([0.0626191 , 0.06856284, 0.07002609, ..., 0.01422197, 0.01463131,\n",
       "         0.01309252]), 0],\n",
       " [array([0.09670485, 0.09284256, 0.0769113 , ..., 0.01154063, 0.01275512,\n",
       "         0.00759375]), 0],\n",
       " [array([0.03279832, 0.03615585, 0.05912545, ..., 0.00773785, 0.01490249,\n",
       "         0.00803764]), 0],\n",
       " [array([0.03116493, 0.03202132, 0.0232475 , ..., 0.01404318, 0.01988595,\n",
       "         0.01371473]), 1],\n",
       " [array([0.01364564, 0.0174172 , 0.01432055, ..., 0.00702407, 0.01282784,\n",
       "         0.01552345]), 1],\n",
       " [array([0.01297641, 0.0122618 , 0.01289701, ..., 0.0133945 , 0.01124254,\n",
       "         0.00899214]), 1],\n",
       " [array([0.02465971, 0.02020191, 0.04155513, ..., 0.00687539, 0.00478487,\n",
       "         0.0179302 ]), 1],\n",
       " [array([0.03347323, 0.02856171, 0.03296847, ..., 0.00750076, 0.01080506,\n",
       "         0.01048807]), 1],\n",
       " [array([0.02347436, 0.02524955, 0.03434097, ..., 0.01242919, 0.00865282,\n",
       "         0.01572943]), 1],\n",
       " [array([0.01505785, 0.01455309, 0.01656647, ..., 0.02402717, 0.00938667,\n",
       "         0.00600967]), 1],\n",
       " [array([0.02838022, 0.02648593, 0.02258394, ..., 0.02195509, 0.01541998,\n",
       "         0.02480708]), 1],\n",
       " [array([0.01889746, 0.01747391, 0.01506352, ..., 0.01216517, 0.00779429,\n",
       "         0.0091695 ]), 1],\n",
       " [array([0.02471075, 0.02981511, 0.10334052, ..., 0.01098615, 0.01092745,\n",
       "         0.01028931]), 1],\n",
       " [array([0.02441016, 0.02231171, 0.01929446, ..., 0.01070519, 0.01020138,\n",
       "         0.01326951]), 1],\n",
       " [array([0.01346416, 0.02646892, 0.01353789, ..., 0.01121135, 0.01143546,\n",
       "         0.0145629 ]), 1],\n",
       " [array([0.02447822, 0.02595848, 0.03152223, ..., 0.00581035, 0.01087677,\n",
       "         0.00920921]), 1],\n",
       " [array([0.02192037, 0.01998639, 0.02020758, ..., 0.00674185, 0.00789239,\n",
       "         0.02065224]), 1],\n",
       " [array([0.04083485, 0.02231171, 0.03265653, ..., 0.01227336, 0.01174804,\n",
       "         0.00916385]), 1],\n",
       " [array([0.05250681, 0.05472436, 0.07094487, ..., 0.00647795, 0.00951612,\n",
       "         0.01616896]), 1],\n",
       " [array([0.04428312, 0.03655286, 0.04126588, ..., 0.00936386, 0.01683283,\n",
       "         0.01169164]), 1],\n",
       " [array([0.03527677, 0.03653584, 0.03587795, ..., 0.02747662, 0.01953699,\n",
       "         0.02277583]), 1],\n",
       " [array([0.03825998, 0.02401316, 0.03276996, ..., 0.0107349 , 0.01562373,\n",
       "         0.01213757]), 1]]"
      ]
     },
     "execution_count": 81,
     "metadata": {},
     "output_type": "execute_result"
    }
   ],
   "source": [
    "def getWavFiles():\n",
    "    files = subp.check_output([\"ls\"]).decode(\"utf8\").split(\"\\n\")\n",
    "    files = [f for f in files if f.split(\".\")[-1] == \"wav\"]\n",
    "    return files\n",
    "    \n",
    "# Gets feature vector for a wav song\n",
    "def getFeatureVector(file):\n",
    "    [Fs, x] = audioBasicIO.readAudioFile(file);\n",
    "    x = audioBasicIO.stereo2mono(x)\n",
    "    \n",
    "    # We cut the audio to a 30 second window in the middle of the song\n",
    "    # If the audio is shorter than 30 second, we discard it\n",
    "    nSamples = Fs * 30\n",
    "    if len(x) < nSamples:\n",
    "        return None\n",
    "    offset   = (len(x) - nSamples) // 2\n",
    "    x = x[offset:offset+nSamples]\n",
    "\n",
    "    print(\"Sampling rate, number of samples: \", Fs, len(x))\n",
    "\n",
    "    mterm, sterm, f_names = audioFeatureExtraction.mtFeatureExtraction(x, Fs, 2*Fs, 2*Fs, 0.050*Fs, 0.025*Fs);\n",
    "\n",
    "    # Should return 68 mid-term features per mid-term window (30 windows)\n",
    "    return mterm.ravel()\n",
    "\n",
    "dataset = []\n",
    "\n",
    "os.chdir(\"music_negative/\")\n",
    "files = getWavFiles()\n",
    "for f in files:\n",
    "    features = getFeatureVector(f)\n",
    "    if features is not None:\n",
    "        dataset.append([features, 0])\n",
    "os.chdir(\"..\")\n",
    "\n",
    "os.chdir(\"music_positive/\")\n",
    "files = getWavFiles()\n",
    "for f in files:\n",
    "    features = getFeatureVector(f)\n",
    "    if features is not None:\n",
    "        dataset.append([features, 1])\n",
    "os.chdir(\"..\")\n",
    "\n",
    "dataset"
   ]
  },
  {
   "cell_type": "code",
   "execution_count": 82,
   "metadata": {},
   "outputs": [],
   "source": [
    "import numpy as np\n",
    "from sklearn.neural_network import MLPClassifier"
   ]
  },
  {
   "cell_type": "code",
   "execution_count": 83,
   "metadata": {},
   "outputs": [],
   "source": [
    "np.random.shuffle(dataset)\n",
    "partition = int(0.7*len(dataset))\n",
    "train = dataset[:partition]\n",
    "test  = dataset[partition:]"
   ]
  },
  {
   "cell_type": "code",
   "execution_count": 94,
   "metadata": {},
   "outputs": [
    {
     "data": {
      "text/plain": [
       "MLPClassifier(activation='relu', alpha=0.0001, batch_size='auto', beta_1=0.9,\n",
       "       beta_2=0.999, early_stopping=False, epsilon=1e-08,\n",
       "       hidden_layer_sizes=10, learning_rate='constant',\n",
       "       learning_rate_init=0.001, max_iter=1000, momentum=0.9,\n",
       "       n_iter_no_change=10, nesterovs_momentum=True, power_t=0.5,\n",
       "       random_state=1, shuffle=True, solver='sgd', tol=0.0001,\n",
       "       validation_fraction=0.1, verbose=False, warm_start=False)"
      ]
     },
     "execution_count": 94,
     "metadata": {},
     "output_type": "execute_result"
    }
   ],
   "source": [
    "clf = MLPClassifier(solver='sgd', alpha=1e-4, hidden_layer_sizes=(10), random_state=1, max_iter=1000)\n",
    "\n",
    "X = [ i[0] for i in train ]\n",
    "Y = [ i[1] for i in train ]\n",
    "clf.fit(X, Y)"
   ]
  },
  {
   "cell_type": "code",
   "execution_count": 95,
   "metadata": {},
   "outputs": [
    {
     "name": "stdout",
     "output_type": "stream",
     "text": [
      "[0.02838022 0.02648593 0.02258394 ... 0.02195509 0.01541998 0.02480708] [1, array([1])]\n",
      "[0.03279832 0.03615585 0.05912545 ... 0.00773785 0.01490249 0.00803764] [0, array([1])]\n",
      "[0.09670485 0.09284256 0.0769113  ... 0.01154063 0.01275512 0.00759375] [0, array([0])]\n",
      "[0.02447822 0.02595848 0.03152223 ... 0.00581035 0.01087677 0.00920921] [1, array([1])]\n",
      "[0.04083485 0.02231171 0.03265653 ... 0.01227336 0.01174804 0.00916385] [1, array([1])]\n",
      "[0.02471075 0.02981511 0.10334052 ... 0.01098615 0.01092745 0.01028931] [1, array([0])]\n",
      "[0.01505785 0.01455309 0.01656647 ... 0.02402717 0.00938667 0.00600967] [1, array([1])]\n",
      "[0.0965177  0.08666062 0.0799569  ... 0.01112409 0.01063557 0.00715959] [0, array([0])]\n",
      "[0.09451565 0.0999206  0.10162772 ... 0.01221416 0.01193331 0.01224679] [0, array([0])]\n",
      "[0.03347323 0.02856171 0.03296847 ... 0.00750076 0.01080506 0.01048807] [1, array([1])]\n"
     ]
    }
   ],
   "source": [
    "for sample in test:\n",
    "    x = sample[0]\n",
    "    y = sample[1]\n",
    "    y_star = clf.predict([x])\n",
    "    print(x, [y, y_star])"
   ]
  }
 ],
 "metadata": {
  "kernelspec": {
   "display_name": "Python 3",
   "language": "python",
   "name": "python3"
  },
  "language_info": {
   "codemirror_mode": {
    "name": "ipython",
    "version": 3
   },
   "file_extension": ".py",
   "mimetype": "text/x-python",
   "name": "python",
   "nbconvert_exporter": "python",
   "pygments_lexer": "ipython3",
   "version": "3.6.6"
  }
 },
 "nbformat": 4,
 "nbformat_minor": 2
}
